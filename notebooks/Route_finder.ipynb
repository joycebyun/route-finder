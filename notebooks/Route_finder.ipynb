{
 "cells": [
  {
   "cell_type": "code",
   "execution_count": null,
   "id": "7c8f5b79-6fe3-4ea7-8d41-391c817d51e4",
   "metadata": {
    "pycharm": {
     "is_executing": true
    }
   },
   "outputs": [],
   "source": [
    "import os\n",
    "import numpy as np\n",
    "import networkx as nx\n",
    "\n",
    "# Force geopandas to use Shapely 2.0 instead of PyGEOS\n",
    "# (PyGEOS was merged with Shapely, and PyGEOS on its own will stop working in a future release of GeoPandas)\n",
    "os.environ['USE_PYGEOS'] = '0' \n",
    "\n",
    "import geopandas as gpd\n",
    "import osmnx as ox"
   ]
  },
  {
   "cell_type": "markdown",
   "id": "b9f09654-7026-4c39-8709-0af2594a617d",
   "metadata": {},
   "source": [
    "# Generate a graph"
   ]
  },
  {
   "cell_type": "code",
   "execution_count": null,
   "id": "b49b952d-4b2c-46df-b710-09bf670b9140",
   "metadata": {},
   "outputs": [],
   "source": [
    "MDG = ox.graph.graph_from_point((32.231774, -110.943864), \n",
    "                                dist=1000, # meters from center\n",
    "                                dist_type='bbox', \n",
    "                                network_type='drive', \n",
    "                                simplify=False, \n",
    "                                retain_all=True, \n",
    "                                truncate_by_edge=False, \n",
    "                                clean_periphery=False, \n",
    "                                custom_filter=None)\n",
    "\n",
    "# Remove interstitial nodes (nodes that are not intersections or dead-ends)\n",
    "MDG = ox.simplification.simplify_graph(MDG, \n",
    "                                       strict=False, \n",
    "                                       remove_rings=False, \n",
    "                                       track_merged=False)\n",
    "\n",
    "print(type(MDG))\n",
    "print(nx.is_weighted(MDG, weight='length'))"
   ]
  },
  {
   "cell_type": "markdown",
   "id": "f5af47e6-8641-46e8-8f4f-29ca71cfa67e",
   "metadata": {},
   "source": [
    "The graph `MDG` that is generated is a graph type in NetworkX that is called a **MultiDiGraph**, which means that it is a directed graph that allows for self-loops and parallel edges."
   ]
  },
  {
   "cell_type": "code",
   "execution_count": null,
   "id": "3b18189c-cdb3-4566-8ed0-699c1244478c",
   "metadata": {},
   "outputs": [],
   "source": [
    "MG = ox.utils_graph.get_undirected(MDG)\n",
    "print(type(MG))\n",
    "print(nx.is_weighted(MG, weight='length'))"
   ]
  },
  {
   "cell_type": "code",
   "execution_count": null,
   "id": "7cf2904e-a3d6-4fe9-8628-3d396aea2f1b",
   "metadata": {},
   "outputs": [],
   "source": [
    "G = MG"
   ]
  },
  {
   "cell_type": "code",
   "execution_count": null,
   "id": "44369dbe-d234-4bce-aa13-9a82d577ac16",
   "metadata": {},
   "outputs": [],
   "source": [
    "ox.plot.plot_graph(G)"
   ]
  },
  {
   "cell_type": "markdown",
   "id": "51ba4257-76ba-4966-aaac-6ce2beab1b7b",
   "metadata": {},
   "source": [
    "# Find routes"
   ]
  },
  {
   "cell_type": "code",
   "execution_count": null,
   "id": "0dca9a74-a65d-4534-8c74-1aa015f0845e",
   "metadata": {},
   "outputs": [],
   "source": [
    "import os\n",
    "os.chdir('/home/jovyan/work/src')"
   ]
  },
  {
   "cell_type": "code",
   "execution_count": null,
   "id": "9a6a5f26",
   "metadata": {},
   "outputs": [],
   "source": [
    "import edge\n",
    "import route\n",
    "import route_finder\n",
    "import graph_utils"
   ]
  },
  {
   "cell_type": "code",
   "execution_count": null,
   "id": "9b4f74d3-f3f5-4815-9418-a13c49fe7f68",
   "metadata": {},
   "outputs": [],
   "source": [
    "from importlib import reload\n",
    "\n",
    "reload(edge)\n",
    "reload(route)\n",
    "reload(route_finder)\n",
    "reload(graph_utils)"
   ]
  },
  {
   "cell_type": "code",
   "execution_count": null,
   "id": "7e5ae9be",
   "metadata": {},
   "outputs": [],
   "source": [
    "source = ox.distance.nearest_nodes(G, -110.943864, 32.231774, return_dist=False)\n",
    "max_distance = 700"
   ]
  },
  {
   "cell_type": "code",
   "execution_count": null,
   "id": "4178fbbf",
   "metadata": {},
   "outputs": [],
   "source": [
    "rf = route_finder.RouteFinder(G, source, max_distance)\n",
    "nx.set_node_attributes(rf.G, values=False, name='visited')"
   ]
  },
  {
   "cell_type": "code",
   "execution_count": null,
   "id": "5e5ffdc0-96a7-40f8-9214-d5bdefc1c7c4",
   "metadata": {},
   "outputs": [],
   "source": [
    "route = rf.greedy_nearest()"
   ]
  },
  {
   "cell_type": "code",
   "execution_count": null,
   "id": "748348bb-90c1-4f95-8a33-19569510f1d1",
   "metadata": {},
   "outputs": [],
   "source": [
    "print('route = ',route)\n",
    "print('edges = ',route.edges)\n",
    "print('number of unique nodes in route = ',len(set(route.nodes)))"
   ]
  },
  {
   "cell_type": "code",
   "execution_count": null,
   "id": "66c69bec-1c38-4469-b4b7-db0c2a1e2057",
   "metadata": {},
   "outputs": [],
   "source": [
    "rf = route_finder.RouteFinder(G, source, max_distance)\n",
    "nx.set_node_attributes(rf.G, values=False, name='visited')\n",
    "\n",
    "brute_force_routes = rf.brute_force()"
   ]
  },
  {
   "cell_type": "code",
   "execution_count": null,
   "id": "2bde4324-5e69-4012-9e61-5c137a4d3e5e",
   "metadata": {},
   "outputs": [],
   "source": [
    "len(brute_force_routes)"
   ]
  },
  {
   "cell_type": "code",
   "execution_count": null,
   "id": "60313352-b376-4374-83f2-edbf0b0dee80",
   "metadata": {},
   "outputs": [],
   "source": [
    "num_new_nodes=[]\n",
    "for r in brute_force_routes:\n",
    "    num_new_nodes.append(len(set(r.nodes)))\n",
    "max(num_new_nodes)"
   ]
  },
  {
   "cell_type": "markdown",
   "id": "90242c2a-250d-410f-bfd1-1c3e0b424fec",
   "metadata": {
    "tags": []
   },
   "source": [
    "\n",
    "# Visualize the route on a map"
   ]
  },
  {
   "cell_type": "code",
   "execution_count": null,
   "id": "ea6be243-8b29-4264-af1d-7df952736a8c",
   "metadata": {
    "scrolled": true
   },
   "outputs": [],
   "source": [
    "# Plot the route on a map\n",
    "\n",
    "fig, ax = ox.plot.plot_graph_route(G, route.nodes, \n",
    "                                   route_color='r', route_linewidth=4, route_alpha=0.5, \n",
    "                                   orig_dest_size=100, \n",
    "                                   ax=None)"
   ]
  },
  {
   "cell_type": "code",
   "execution_count": null,
   "id": "74b1354e-65a1-440e-b2ce-781dfb7fec4c",
   "metadata": {},
   "outputs": [],
   "source": [
    "# Make a crude animation of the route\n",
    "\n",
    "import matplotlib.pyplot as plt\n",
    "from matplotlib.animation import FuncAnimation\n",
    "\n",
    "fig, ax = ox.plot_graph(G, show=False, close=False)\n",
    "\n",
    "def update(i):\n",
    "    # replot things\n",
    "    ax.scatter(G.nodes[route.nodes[i]]['x'], G.nodes[route.nodes[i]]['y'])\n",
    "\n",
    "animation = FuncAnimation(fig, update, frames=len(route.nodes), interval=500)\n",
    "\n",
    "animation.save('/home/jovyan/work/notebooks/route.gif', writer='pillow')"
   ]
  },
  {
   "cell_type": "markdown",
   "id": "230a3bec",
   "metadata": {},
   "source": [
    "# Plot using folium"
   ]
  },
  {
   "cell_type": "markdown",
   "id": "ff570f10-e058-4f26-a8e5-def939e58f10",
   "metadata": {},
   "source": [
    "Figure out how to plot the route using folium.\n",
    "Plotting in `osmnx` can produce some lines that aren't edges, and I don't know why."
   ]
  },
  {
   "cell_type": "code",
   "execution_count": null,
   "id": "661d622a-cd3c-4920-b531-3a857274c0cb",
   "metadata": {},
   "outputs": [],
   "source": [
    "import folium"
   ]
  },
  {
   "cell_type": "code",
   "execution_count": null,
   "id": "e4e956cd-ac62-4581-b5cb-aec38b076e2c",
   "metadata": {},
   "outputs": [],
   "source": [
    "fmap = ox.folium.plot_graph_folium(G, graph_map=None, popup_attribute=None,\n",
    "                                  tiles='cartodbpositron', zoom=1, fit_bounds=True,\n",
    "                                  color='gray', weight=2)\n",
    "\n",
    "fmap"
   ]
  },
  {
   "cell_type": "code",
   "execution_count": null,
   "id": "c58b8cd6-202e-40c9-ada0-56f5b6c384eb",
   "metadata": {},
   "outputs": [],
   "source": [
    "gdf_nodes, gdf_edges = ox.utils_graph.graph_to_gdfs(G, nodes=True, edges=True, \n",
    "                                                    node_geometry=True, fill_edge_geometry=True)"
   ]
  },
  {
   "cell_type": "code",
   "execution_count": null,
   "id": "68422f61-163d-48c1-adfb-ccd8358792ba",
   "metadata": {},
   "outputs": [],
   "source": [
    "osmids = gdf_nodes.index.to_numpy()\n",
    "for n in osmids:\n",
    "    \n",
    "    if n in set(route.nodes):\n",
    "        color = 'blue'\n",
    "    else:\n",
    "        color = 'red'\n",
    "        \n",
    "    y = gdf_nodes.loc[n].y\n",
    "    x = gdf_nodes.loc[n].x\n",
    "    \n",
    "    folium.Circle(location=[y, x], \n",
    "                  radius=10, # in meters\n",
    "                  color=color,\n",
    "                  opacity=0.5, \n",
    "                  weight=1, \n",
    "                  fill=True\n",
    "                 ).add_to(fmap)\n",
    "    \n",
    "\n",
    "fmap"
   ]
  },
  {
   "cell_type": "code",
   "execution_count": null,
   "id": "213041f5",
   "metadata": {
    "scrolled": true
   },
   "outputs": [],
   "source": [
    "for e in route.edges:\n",
    "    try:\n",
    "        linestring = gdf_edges.loc[(e[0], e[1], e[2])]['geometry']\n",
    "    except KeyError:\n",
    "        linestring = gdf_edges.loc[(e[1], e[0], e[2])]['geometry']\n",
    "\n",
    "    polyline = ox.folium._make_folium_polyline(linestring, color='blue')\n",
    "    polyline.add_to(fmap)\n",
    "\n",
    "fmap"
   ]
  },
  {
   "cell_type": "code",
   "execution_count": null,
   "id": "c5b1a1f6",
   "metadata": {},
   "outputs": [],
   "source": []
  }
 ],
 "metadata": {
  "kernelspec": {
   "display_name": "Python 3 (ipykernel)",
   "language": "python",
   "name": "python3"
  },
  "language_info": {
   "codemirror_mode": {
    "name": "ipython",
    "version": 3
   },
   "file_extension": ".py",
   "mimetype": "text/x-python",
   "name": "python",
   "nbconvert_exporter": "python",
   "pygments_lexer": "ipython3",
   "version": "3.10.8"
  },
  "toc-autonumbering": false,
  "toc-showmarkdowntxt": false
 },
 "nbformat": 4,
 "nbformat_minor": 5
}
